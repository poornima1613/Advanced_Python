{
 "cells": [
  {
   "cell_type": "code",
   "execution_count": null,
   "metadata": {},
   "outputs": [],
   "source": []
  },
  {
   "cell_type": "code",
   "execution_count": 22,
   "metadata": {},
   "outputs": [],
   "source": [
    "class Restaurant:\n",
    "    \n",
    "    def __init__(self, restaurant_name, cuisine_type):\n",
    "        self.restaurant_name=restaurant_name\n",
    "        self.cuisine_type=cuisine_type\n",
    "        print('Program in initiated')\n",
    "    \n",
    "    def describe_restaurant(self):\n",
    "        print('Serves both Veg and Non Veg')\n",
    "        print('Best briyani in India')\n",
    "    \n",
    "    def open_restaurant(self):\n",
    "        print('Restaurant is open now')      \n",
    "\n",
    "icecream_flavors=['Vanilla','Strawberry','Chocolate']\n",
    "\n",
    "class IceCreamStand(Restaurant):\n",
    "    \n",
    "    def flavor(self):\n",
    "        print('List of icre cream flavors')\n",
    "        print(icecream_flavors)\n"
   ]
  },
  {
   "cell_type": "code",
   "execution_count": 20,
   "metadata": {},
   "outputs": [
    {
     "name": "stdout",
     "output_type": "stream",
     "text": [
      "Program in initiated\n",
      "Serves both Veg and Non Veg\n",
      "Best briyani in India\n",
      "Restaurant is open now\n"
     ]
    }
   ],
   "source": [
    "restaurant=Restaurant('Chennai Restaurant', 'South Indian')\n",
    "restaurant.describe_restaurant()\n",
    "restaurant.open_restaurant()"
   ]
  },
  {
   "cell_type": "code",
   "execution_count": 23,
   "metadata": {},
   "outputs": [
    {
     "name": "stdout",
     "output_type": "stream",
     "text": [
      "Program in initiated\n",
      "List of icre cream flavors\n",
      "['Vanilla', 'Strawberry', 'Chocolate']\n"
     ]
    }
   ],
   "source": [
    "icecream=IceCreamStand('Chennai Restaurant', 'South Indian')\n",
    "icecream.flavor()"
   ]
  },
  {
   "cell_type": "code",
   "execution_count": null,
   "metadata": {},
   "outputs": [],
   "source": []
  },
  {
   "cell_type": "code",
   "execution_count": 10,
   "metadata": {},
   "outputs": [],
   "source": []
  },
  {
   "cell_type": "code",
   "execution_count": null,
   "metadata": {},
   "outputs": [],
   "source": []
  },
  {
   "cell_type": "code",
   "execution_count": null,
   "metadata": {},
   "outputs": [],
   "source": []
  },
  {
   "cell_type": "code",
   "execution_count": null,
   "metadata": {},
   "outputs": [],
   "source": []
  }
 ],
 "metadata": {
  "kernelspec": {
   "display_name": "Python 3",
   "language": "python",
   "name": "python3"
  },
  "language_info": {
   "codemirror_mode": {
    "name": "ipython",
    "version": 3
   },
   "file_extension": ".py",
   "mimetype": "text/x-python",
   "name": "python",
   "nbconvert_exporter": "python",
   "pygments_lexer": "ipython3",
   "version": "3.7.6"
  }
 },
 "nbformat": 4,
 "nbformat_minor": 4
}
