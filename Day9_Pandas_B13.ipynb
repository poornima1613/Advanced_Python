{
 "cells": [
  {
   "cell_type": "code",
   "execution_count": 2,
   "metadata": {},
   "outputs": [],
   "source": [
    "import numpy as np\n",
    "\n",
    "import pandas as pd"
   ]
  },
  {
   "cell_type": "code",
   "execution_count": 3,
   "metadata": {},
   "outputs": [
    {
     "name": "stdout",
     "output_type": "stream",
     "text": [
      "Empty DataFrame\n",
      "Columns: []\n",
      "Index: []\n"
     ]
    }
   ],
   "source": [
    "df = pd.DataFrame()\n",
    "\n",
    "print(df)"
   ]
  },
  {
   "cell_type": "code",
   "execution_count": 4,
   "metadata": {},
   "outputs": [
    {
     "name": "stdout",
     "output_type": "stream",
     "text": [
      "   0\n",
      "0  1\n",
      "1  2\n",
      "2  3\n",
      "3  4\n",
      "4  5\n"
     ]
    }
   ],
   "source": [
    "data = [1,2,3,4,5]\n",
    "\n",
    "df = pd.DataFrame(data)\n",
    "\n",
    "print(df)"
   ]
  },
  {
   "cell_type": "code",
   "execution_count": 5,
   "metadata": {},
   "outputs": [
    {
     "name": "stdout",
     "output_type": "stream",
     "text": [
      "          0   1\n",
      "0  poornima  10\n",
      "1    parthi   8\n",
      "2     yashi   8\n",
      "3   shivani   7\n"
     ]
    }
   ],
   "source": [
    "data = [['poornima', 10],['parthi', 8],['yashi', 8],['shivani',7]]\n",
    "\n",
    "df = pd.DataFrame(data)\n",
    "\n",
    "print(df)"
   ]
  },
  {
   "cell_type": "code",
   "execution_count": 6,
   "metadata": {},
   "outputs": [
    {
     "name": "stdout",
     "output_type": "stream",
     "text": [
      "       Name  Marks\n",
      "0  poornima     10\n",
      "1    parthi      8\n",
      "2     yashi      8\n",
      "3   shivani      7\n"
     ]
    }
   ],
   "source": [
    "data = [['poornima', 10],['parthi', 8],['yashi', 8],['shivani',7]]\n",
    "\n",
    "df = pd.DataFrame(data, columns=['Name','Marks'])\n",
    "\n",
    "print(df)"
   ]
  },
  {
   "cell_type": "code",
   "execution_count": 7,
   "metadata": {},
   "outputs": [
    {
     "name": "stdout",
     "output_type": "stream",
     "text": [
      "           Name  Marks\n",
      "rank1  poornima     10\n",
      "rank2    parthi      8\n",
      "rank3     yashi      8\n",
      "rank4   shivani      7\n"
     ]
    }
   ],
   "source": [
    "data = [['poornima', 10],['parthi', 8],['yashi', 8],['shivani',7]]\n",
    "\n",
    "df = pd.DataFrame(data, index=['rank1','rank2','rank3','rank4'], columns=['Name','Marks'])\n",
    "\n",
    "print(df)"
   ]
  },
  {
   "cell_type": "code",
   "execution_count": 8,
   "metadata": {},
   "outputs": [
    {
     "name": "stdout",
     "output_type": "stream",
     "text": [
      "           Name  Marks\n",
      "rank1  poornima   10.0\n",
      "rank2    parthi    8.0\n",
      "rank3     yashi    8.0\n",
      "rank4   shivani    7.0\n"
     ]
    }
   ],
   "source": [
    "data = [['poornima', 10],['parthi', 8],['yashi', 8],['shivani',7]]\n",
    "\n",
    "df = pd.DataFrame(data, index=['rank1','rank2','rank3','rank4'], columns=['Name','Marks'], dtype=float)\n",
    "\n",
    "print(df)"
   ]
  },
  {
   "cell_type": "code",
   "execution_count": 11,
   "metadata": {},
   "outputs": [
    {
     "name": "stdout",
     "output_type": "stream",
     "text": [
      "        Name   Age\n",
      "0  Parthiban  31.0\n",
      "1   Poornima  30.0\n",
      "2    Yashita   6.0\n",
      "3    Shivani   0.4\n"
     ]
    }
   ],
   "source": [
    "data = {'Name':['Parthiban','Poornima','Yashita','Shivani'],\n",
    "        'Age':[31,30,6,0.4]}\n",
    "\n",
    "df = pd.DataFrame(data)\n",
    "\n",
    "print(df)"
   ]
  },
  {
   "cell_type": "code",
   "execution_count": null,
   "metadata": {},
   "outputs": [],
   "source": []
  }
 ],
 "metadata": {
  "kernelspec": {
   "display_name": "Python 3",
   "language": "python",
   "name": "python3"
  },
  "language_info": {
   "codemirror_mode": {
    "name": "ipython",
    "version": 3
   },
   "file_extension": ".py",
   "mimetype": "text/x-python",
   "name": "python",
   "nbconvert_exporter": "python",
   "pygments_lexer": "ipython3",
   "version": "3.7.6"
  }
 },
 "nbformat": 4,
 "nbformat_minor": 4
}
